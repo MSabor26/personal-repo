{
 "cells": [
  {
   "cell_type": "markdown",
   "metadata": {},
   "source": [
    "# Retrieving Data from the Fantasy Premier League API"
   ]
  },
  {
   "cell_type": "markdown",
   "metadata": {},
   "source": [
    "### Getting Player IDs for 2023-2024 Season"
   ]
  },
  {
   "cell_type": "code",
   "execution_count": 2,
   "metadata": {},
   "outputs": [],
   "source": [
    "# Import Libraries\n",
    "import requests, json\n",
    "from pprint import pprint\n",
    "import pandas as pd"
   ]
  },
  {
   "cell_type": "code",
   "execution_count": 3,
   "metadata": {},
   "outputs": [],
   "source": [
    "base_url = 'https://fantasy.premierleague.com/api/' \n",
    "gen = requests.get(base_url+'bootstrap-static/').json() "
   ]
  },
  {
   "cell_type": "code",
   "execution_count": 4,
   "metadata": {},
   "outputs": [],
   "source": [
    "pd.set_option('display.max_columns', None)"
   ]
  },
  {
   "cell_type": "code",
   "execution_count": 5,
   "metadata": {},
   "outputs": [],
   "source": [
    "# Looking at Structure of Elements\n",
    "players = gen['elements']"
   ]
  },
  {
   "cell_type": "code",
   "execution_count": 6,
   "metadata": {},
   "outputs": [],
   "source": [
    "# Want id, first_name, second_name, team\n",
    "players_df = pd.DataFrame(players)\n",
    "players_df = players_df[['id', 'first_name', 'second_name', 'team']]"
   ]
  },
  {
   "cell_type": "markdown",
   "metadata": {},
   "source": [
    "### Getting Team IDs"
   ]
  },
  {
   "cell_type": "code",
   "execution_count": 7,
   "metadata": {},
   "outputs": [],
   "source": [
    "teams_df = pd.DataFrame(gen['teams'])\n",
    "teams_df = teams_df[['id','name']]"
   ]
  },
  {
   "cell_type": "markdown",
   "metadata": {},
   "source": [
    "### Joining Teams to Players"
   ]
  },
  {
   "cell_type": "code",
   "execution_count": 8,
   "metadata": {},
   "outputs": [],
   "source": [
    "df = pd.merge(players_df, teams_df, left_on = 'team', right_on= 'id', how = 'left')\n",
    "df.drop(columns = ['team', 'id_y'], inplace=True)\n",
    "df.rename(columns={'id_x': 'player_id', 'second_name' : 'last_name'}, inplace=True)"
   ]
  },
  {
   "cell_type": "markdown",
   "metadata": {},
   "source": [
    "### Retrieving Player Data for 2023-2024 Season"
   ]
  },
  {
   "cell_type": "code",
   "execution_count": 9,
   "metadata": {},
   "outputs": [],
   "source": [
    "import pandas as pd\n",
    "import requests\n",
    "\n",
    "# Initialize Data Frame to store all Gameweek data for all players\n",
    "player_data_df = pd.DataFrame()\n",
    "\n",
    "# Loops through all players that have played this season\n",
    "for i in range(len(df)):\n",
    "    base_url = 'https://fantasy.premierleague.com/api/' \n",
    "    player_id = i\n",
    "    player_iter = requests.get(base_url + f\"element-summary/{player_id}/\").json()\n",
    "    \n",
    "    # Print the JSON response to inspect its structure\n",
    "    #print(f\"Player {i} JSON response:\", player_iter)\n",
    "    \n",
    "    # Check if 'history' key exists in the JSON response\n",
    "    if 'history' in player_iter:\n",
    "        player_iter = pd.DataFrame(player_iter['history'])\n",
    "        # Select relevant columns\n",
    "        player_iter = player_iter[['opponent_team','total_points','was_home','team_h_score','team_a_score',\n",
    "                                     'round','minutes','goals_scored','assists','clean_sheets','goals_conceded',\n",
    "                                     'own_goals','penalties_saved','penalties_missed','yellow_cards','red_cards',\n",
    "                                     'saves','bonus','bps', 'starts','expected_goals','expected_assists',\n",
    "                                     'expected_goal_involvements','expected_goals_conceded','value','selected',\n",
    "                                     'transfers_in','transfers_out']]\n",
    "        # Add Player ID\n",
    "        player_iter['player_id'] = i\n",
    "        # Rename Columns\n",
    "        player_iter.rename(columns = {'round':'gameweek'}, inplace = True)\n",
    "        # Changing Data Types\n",
    "        player_iter = player_iter.astype({'expected_goals':float, 'expected_assists':float,'expected_goal_involvements':float,\n",
    "                                                'expected_goals_conceded':float})\n",
    "        # Concatenate each player's data\n",
    "        player_data_df = pd.concat([player_data_df, player_iter], ignore_index=True)\n",
    "    else:\n",
    "        pass"
   ]
  },
  {
   "cell_type": "code",
   "execution_count": 10,
   "metadata": {},
   "outputs": [],
   "source": [
    "# Create Copy\n",
    "player_final = player_data_df"
   ]
  },
  {
   "cell_type": "code",
   "execution_count": 11,
   "metadata": {},
   "outputs": [],
   "source": [
    "# Merge Player Data\n",
    "player_final = pd.merge(player_final,df,'left', on='player_id')\n",
    "\n",
    "# Merge Opponent Team Data\n",
    "player_final = pd.merge(player_final, teams_df, 'left', left_on='opponent_team', right_on='id')"
   ]
  },
  {
   "cell_type": "code",
   "execution_count": 12,
   "metadata": {},
   "outputs": [],
   "source": [
    "# Rename Columns\n",
    "player_final.rename(columns={'name_x': 'player_team_name', 'name_y' : 'opponent_team_name'}, inplace=True)"
   ]
  },
  {
   "cell_type": "code",
   "execution_count": 13,
   "metadata": {},
   "outputs": [],
   "source": [
    "player_final['player_name'] = player_final['first_name'] + ' ' + player_final['last_name']\n",
    "player_final.drop(columns=['first_name','last_name','id','opponent_team'],inplace=True)"
   ]
  },
  {
   "cell_type": "code",
   "execution_count": 14,
   "metadata": {},
   "outputs": [],
   "source": [
    "# Change Order of Columns\n",
    "# Reordered Columns\n",
    "reordered_columns = ['player_id','player_name','player_team_name','opponent_team_name']\n",
    "# Define the remaining columns\n",
    "remaining_columns = [col for col in player_final.columns if col not in reordered_columns]\n",
    "# Reorder columns and append remaining columns\n",
    "player_final = player_final[reordered_columns + remaining_columns]"
   ]
  },
  {
   "cell_type": "code",
   "execution_count": 15,
   "metadata": {},
   "outputs": [],
   "source": [
    "# Divide Value by 10 (Get to millions)\n",
    "player_final['value'] = player_final['value']/10 "
   ]
  },
  {
   "cell_type": "code",
   "execution_count": 19,
   "metadata": {},
   "outputs": [],
   "source": [
    "# Send to csv\n",
    "player_final.to_csv('/Users/michaelsabor/Library/CloudStorage/OneDrive-Personal/GitHub/personal-repo/FPL Project/Data/player_data_202324', index=False)"
   ]
  }
 ],
 "metadata": {
  "kernelspec": {
   "display_name": "base",
   "language": "python",
   "name": "python3"
  },
  "language_info": {
   "codemirror_mode": {
    "name": "ipython",
    "version": 3
   },
   "file_extension": ".py",
   "mimetype": "text/x-python",
   "name": "python",
   "nbconvert_exporter": "python",
   "pygments_lexer": "ipython3",
   "version": "3.10.9"
  }
 },
 "nbformat": 4,
 "nbformat_minor": 2
}
